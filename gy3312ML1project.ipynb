{
  "nbformat": 4,
  "nbformat_minor": 0,
  "metadata": {
    "colab": {
      "name": "Untitled0.ipynb",
      "provenance": [],
      "collapsed_sections": [],
      "authorship_tag": "ABX9TyPw5FP+vIMwPFpn4fQdy5xz",
      "include_colab_link": true
    },
    "kernelspec": {
      "name": "python3",
      "display_name": "Python 3"
    }
  },
  "cells": [
    {
      "cell_type": "markdown",
      "metadata": {
        "id": "view-in-github",
        "colab_type": "text"
      },
      "source": [
        "<a href=\"https://colab.research.google.com/github/jaydebsarker/AuthorProfilingAbuseDetection/blob/master/gy3312ML1project.ipynb\" target=\"_parent\"><img src=\"https://colab.research.google.com/assets/colab-badge.svg\" alt=\"Open In Colab\"/></a>"
      ]
    },
    {
      "cell_type": "code",
      "metadata": {
        "id": "z3fOOuSByrgQ"
      },
      "source": [
        "#CSC5825\r\n",
        "#Fall2020\r\n",
        "#Name: Jaydeb Sarker\r\n",
        "#ID: gy3312\r\n",
        "#credit card fraud detection"
      ],
      "execution_count": 1,
      "outputs": []
    },
    {
      "cell_type": "code",
      "metadata": {
        "colab": {
          "base_uri": "https://localhost:8080/"
        },
        "id": "zIQhjyhryudP",
        "outputId": "e08ca158-d233-4c57-a9b3-984ec0861f38"
      },
      "source": [
        "#import classifiers and others\r\n",
        "from sklearn.metrics import roc_auc_score\r\n",
        "import matplotlib.pyplot as plt\r\n",
        "import seaborn as sns\r\n",
        "from mpl_toolkits.mplot3d import Axes3D\r\n",
        "\r\n",
        "import numpy as np\r\n",
        "import pandas as pd\r\n",
        "\r\n",
        "from sklearn.model_selection import train_test_split, cross_val_score, KFold\r\n",
        "from sklearn.utils import resample \r\n",
        "from sklearn.decomposition import PCA\r\n",
        "from sklearn.pipeline import Pipeline\r\n",
        "\r\n",
        "from sklearn.linear_model import LogisticRegression\r\n",
        "from sklearn.svm import SVC\r\n",
        "from sklearn.tree import DecisionTreeClassifier\r\n",
        "import collections\r\n",
        "\r\n",
        "from imblearn.pipeline import make_pipeline as imbalanced_make_pipeline\r\n",
        "from imblearn.over_sampling import SMOTE\r\n",
        "from imblearn.under_sampling import NearMiss\r\n",
        "\r\n",
        "from imblearn.metrics import classification_report_imbalanced\r\n",
        "\r\n",
        "from sklearn.metrics import precision_score, recall_score, f1_score, roc_auc_score, accuracy_score, classification_report\r\n",
        "from collections import Counter"
      ],
      "execution_count": 2,
      "outputs": [
        {
          "output_type": "stream",
          "text": [
            "/usr/local/lib/python3.6/dist-packages/sklearn/externals/six.py:31: FutureWarning: The module is deprecated in version 0.21 and will be removed in version 0.23 since we've dropped support for Python 2.7. Please rely on the official version of six (https://pypi.org/project/six/).\n",
            "  \"(https://pypi.org/project/six/).\", FutureWarning)\n",
            "/usr/local/lib/python3.6/dist-packages/sklearn/utils/deprecation.py:144: FutureWarning: The sklearn.neighbors.base module is  deprecated in version 0.22 and will be removed in version 0.24. The corresponding classes / functions should instead be imported from sklearn.neighbors. Anything that cannot be imported from sklearn.neighbors is now part of the private API.\n",
            "  warnings.warn(message, FutureWarning)\n",
            "/usr/local/lib/python3.6/dist-packages/sklearn/utils/deprecation.py:144: FutureWarning: The sklearn.metrics.classification module is  deprecated in version 0.22 and will be removed in version 0.24. The corresponding classes / functions should instead be imported from sklearn.metrics. Anything that cannot be imported from sklearn.metrics is now part of the private API.\n",
            "  warnings.warn(message, FutureWarning)\n"
          ],
          "name": "stderr"
        }
      ]
    },
    {
      "cell_type": "code",
      "metadata": {
        "id": "N_1z_7teyx8U"
      },
      "source": [
        "def read_data():\r\n",
        "    data=pd.read_csv('creditcard.csv')\r\n",
        "    return data\r\n",
        "\r\n",
        "data=read_data() \r\n",
        "\r\n"
      ],
      "execution_count": 3,
      "outputs": []
    },
    {
      "cell_type": "code",
      "metadata": {
        "colab": {
          "resources": {
            "http://localhost:8080/nbextensions/google.colab/files.js": {
              "data": "Ly8gQ29weXJpZ2h0IDIwMTcgR29vZ2xlIExMQwovLwovLyBMaWNlbnNlZCB1bmRlciB0aGUgQXBhY2hlIExpY2Vuc2UsIFZlcnNpb24gMi4wICh0aGUgIkxpY2Vuc2UiKTsKLy8geW91IG1heSBub3QgdXNlIHRoaXMgZmlsZSBleGNlcHQgaW4gY29tcGxpYW5jZSB3aXRoIHRoZSBMaWNlbnNlLgovLyBZb3UgbWF5IG9idGFpbiBhIGNvcHkgb2YgdGhlIExpY2Vuc2UgYXQKLy8KLy8gICAgICBodHRwOi8vd3d3LmFwYWNoZS5vcmcvbGljZW5zZXMvTElDRU5TRS0yLjAKLy8KLy8gVW5sZXNzIHJlcXVpcmVkIGJ5IGFwcGxpY2FibGUgbGF3IG9yIGFncmVlZCB0byBpbiB3cml0aW5nLCBzb2Z0d2FyZQovLyBkaXN0cmlidXRlZCB1bmRlciB0aGUgTGljZW5zZSBpcyBkaXN0cmlidXRlZCBvbiBhbiAiQVMgSVMiIEJBU0lTLAovLyBXSVRIT1VUIFdBUlJBTlRJRVMgT1IgQ09ORElUSU9OUyBPRiBBTlkgS0lORCwgZWl0aGVyIGV4cHJlc3Mgb3IgaW1wbGllZC4KLy8gU2VlIHRoZSBMaWNlbnNlIGZvciB0aGUgc3BlY2lmaWMgbGFuZ3VhZ2UgZ292ZXJuaW5nIHBlcm1pc3Npb25zIGFuZAovLyBsaW1pdGF0aW9ucyB1bmRlciB0aGUgTGljZW5zZS4KCi8qKgogKiBAZmlsZW92ZXJ2aWV3IEhlbHBlcnMgZm9yIGdvb2dsZS5jb2xhYiBQeXRob24gbW9kdWxlLgogKi8KKGZ1bmN0aW9uKHNjb3BlKSB7CmZ1bmN0aW9uIHNwYW4odGV4dCwgc3R5bGVBdHRyaWJ1dGVzID0ge30pIHsKICBjb25zdCBlbGVtZW50ID0gZG9jdW1lbnQuY3JlYXRlRWxlbWVudCgnc3BhbicpOwogIGVsZW1lbnQudGV4dENvbnRlbnQgPSB0ZXh0OwogIGZvciAoY29uc3Qga2V5IG9mIE9iamVjdC5rZXlzKHN0eWxlQXR0cmlidXRlcykpIHsKICAgIGVsZW1lbnQuc3R5bGVba2V5XSA9IHN0eWxlQXR0cmlidXRlc1trZXldOwogIH0KICByZXR1cm4gZWxlbWVudDsKfQoKLy8gTWF4IG51bWJlciBvZiBieXRlcyB3aGljaCB3aWxsIGJlIHVwbG9hZGVkIGF0IGEgdGltZS4KY29uc3QgTUFYX1BBWUxPQURfU0laRSA9IDEwMCAqIDEwMjQ7CgpmdW5jdGlvbiBfdXBsb2FkRmlsZXMoaW5wdXRJZCwgb3V0cHV0SWQpIHsKICBjb25zdCBzdGVwcyA9IHVwbG9hZEZpbGVzU3RlcChpbnB1dElkLCBvdXRwdXRJZCk7CiAgY29uc3Qgb3V0cHV0RWxlbWVudCA9IGRvY3VtZW50LmdldEVsZW1lbnRCeUlkKG91dHB1dElkKTsKICAvLyBDYWNoZSBzdGVwcyBvbiB0aGUgb3V0cHV0RWxlbWVudCB0byBtYWtlIGl0IGF2YWlsYWJsZSBmb3IgdGhlIG5leHQgY2FsbAogIC8vIHRvIHVwbG9hZEZpbGVzQ29udGludWUgZnJvbSBQeXRob24uCiAgb3V0cHV0RWxlbWVudC5zdGVwcyA9IHN0ZXBzOwoKICByZXR1cm4gX3VwbG9hZEZpbGVzQ29udGludWUob3V0cHV0SWQpOwp9CgovLyBUaGlzIGlzIHJvdWdobHkgYW4gYXN5bmMgZ2VuZXJhdG9yIChub3Qgc3VwcG9ydGVkIGluIHRoZSBicm93c2VyIHlldCksCi8vIHdoZXJlIHRoZXJlIGFyZSBtdWx0aXBsZSBhc3luY2hyb25vdXMgc3RlcHMgYW5kIHRoZSBQeXRob24gc2lkZSBpcyBnb2luZwovLyB0byBwb2xsIGZvciBjb21wbGV0aW9uIG9mIGVhY2ggc3RlcC4KLy8gVGhpcyB1c2VzIGEgUHJvbWlzZSB0byBibG9jayB0aGUgcHl0aG9uIHNpZGUgb24gY29tcGxldGlvbiBvZiBlYWNoIHN0ZXAsCi8vIHRoZW4gcGFzc2VzIHRoZSByZXN1bHQgb2YgdGhlIHByZXZpb3VzIHN0ZXAgYXMgdGhlIGlucHV0IHRvIHRoZSBuZXh0IHN0ZXAuCmZ1bmN0aW9uIF91cGxvYWRGaWxlc0NvbnRpbnVlKG91dHB1dElkKSB7CiAgY29uc3Qgb3V0cHV0RWxlbWVudCA9IGRvY3VtZW50LmdldEVsZW1lbnRCeUlkKG91dHB1dElkKTsKICBjb25zdCBzdGVwcyA9IG91dHB1dEVsZW1lbnQuc3RlcHM7CgogIGNvbnN0IG5leHQgPSBzdGVwcy5uZXh0KG91dHB1dEVsZW1lbnQubGFzdFByb21pc2VWYWx1ZSk7CiAgcmV0dXJuIFByb21pc2UucmVzb2x2ZShuZXh0LnZhbHVlLnByb21pc2UpLnRoZW4oKHZhbHVlKSA9PiB7CiAgICAvLyBDYWNoZSB0aGUgbGFzdCBwcm9taXNlIHZhbHVlIHRvIG1ha2UgaXQgYXZhaWxhYmxlIHRvIHRoZSBuZXh0CiAgICAvLyBzdGVwIG9mIHRoZSBnZW5lcmF0b3IuCiAgICBvdXRwdXRFbGVtZW50Lmxhc3RQcm9taXNlVmFsdWUgPSB2YWx1ZTsKICAgIHJldHVybiBuZXh0LnZhbHVlLnJlc3BvbnNlOwogIH0pOwp9CgovKioKICogR2VuZXJhdG9yIGZ1bmN0aW9uIHdoaWNoIGlzIGNhbGxlZCBiZXR3ZWVuIGVhY2ggYXN5bmMgc3RlcCBvZiB0aGUgdXBsb2FkCiAqIHByb2Nlc3MuCiAqIEBwYXJhbSB7c3RyaW5nfSBpbnB1dElkIEVsZW1lbnQgSUQgb2YgdGhlIGlucHV0IGZpbGUgcGlja2VyIGVsZW1lbnQuCiAqIEBwYXJhbSB7c3RyaW5nfSBvdXRwdXRJZCBFbGVtZW50IElEIG9mIHRoZSBvdXRwdXQgZGlzcGxheS4KICogQHJldHVybiB7IUl0ZXJhYmxlPCFPYmplY3Q+fSBJdGVyYWJsZSBvZiBuZXh0IHN0ZXBzLgogKi8KZnVuY3Rpb24qIHVwbG9hZEZpbGVzU3RlcChpbnB1dElkLCBvdXRwdXRJZCkgewogIGNvbnN0IGlucHV0RWxlbWVudCA9IGRvY3VtZW50LmdldEVsZW1lbnRCeUlkKGlucHV0SWQpOwogIGlucHV0RWxlbWVudC5kaXNhYmxlZCA9IGZhbHNlOwoKICBjb25zdCBvdXRwdXRFbGVtZW50ID0gZG9jdW1lbnQuZ2V0RWxlbWVudEJ5SWQob3V0cHV0SWQpOwogIG91dHB1dEVsZW1lbnQuaW5uZXJIVE1MID0gJyc7CgogIGNvbnN0IHBpY2tlZFByb21pc2UgPSBuZXcgUHJvbWlzZSgocmVzb2x2ZSkgPT4gewogICAgaW5wdXRFbGVtZW50LmFkZEV2ZW50TGlzdGVuZXIoJ2NoYW5nZScsIChlKSA9PiB7CiAgICAgIHJlc29sdmUoZS50YXJnZXQuZmlsZXMpOwogICAgfSk7CiAgfSk7CgogIGNvbnN0IGNhbmNlbCA9IGRvY3VtZW50LmNyZWF0ZUVsZW1lbnQoJ2J1dHRvbicpOwogIGlucHV0RWxlbWVudC5wYXJlbnRFbGVtZW50LmFwcGVuZENoaWxkKGNhbmNlbCk7CiAgY2FuY2VsLnRleHRDb250ZW50ID0gJ0NhbmNlbCB1cGxvYWQnOwogIGNvbnN0IGNhbmNlbFByb21pc2UgPSBuZXcgUHJvbWlzZSgocmVzb2x2ZSkgPT4gewogICAgY2FuY2VsLm9uY2xpY2sgPSAoKSA9PiB7CiAgICAgIHJlc29sdmUobnVsbCk7CiAgICB9OwogIH0pOwoKICAvLyBXYWl0IGZvciB0aGUgdXNlciB0byBwaWNrIHRoZSBmaWxlcy4KICBjb25zdCBmaWxlcyA9IHlpZWxkIHsKICAgIHByb21pc2U6IFByb21pc2UucmFjZShbcGlja2VkUHJvbWlzZSwgY2FuY2VsUHJvbWlzZV0pLAogICAgcmVzcG9uc2U6IHsKICAgICAgYWN0aW9uOiAnc3RhcnRpbmcnLAogICAgfQogIH07CgogIGNhbmNlbC5yZW1vdmUoKTsKCiAgLy8gRGlzYWJsZSB0aGUgaW5wdXQgZWxlbWVudCBzaW5jZSBmdXJ0aGVyIHBpY2tzIGFyZSBub3QgYWxsb3dlZC4KICBpbnB1dEVsZW1lbnQuZGlzYWJsZWQgPSB0cnVlOwoKICBpZiAoIWZpbGVzKSB7CiAgICByZXR1cm4gewogICAgICByZXNwb25zZTogewogICAgICAgIGFjdGlvbjogJ2NvbXBsZXRlJywKICAgICAgfQogICAgfTsKICB9CgogIGZvciAoY29uc3QgZmlsZSBvZiBmaWxlcykgewogICAgY29uc3QgbGkgPSBkb2N1bWVudC5jcmVhdGVFbGVtZW50KCdsaScpOwogICAgbGkuYXBwZW5kKHNwYW4oZmlsZS5uYW1lLCB7Zm9udFdlaWdodDogJ2JvbGQnfSkpOwogICAgbGkuYXBwZW5kKHNwYW4oCiAgICAgICAgYCgke2ZpbGUudHlwZSB8fCAnbi9hJ30pIC0gJHtmaWxlLnNpemV9IGJ5dGVzLCBgICsKICAgICAgICBgbGFzdCBtb2RpZmllZDogJHsKICAgICAgICAgICAgZmlsZS5sYXN0TW9kaWZpZWREYXRlID8gZmlsZS5sYXN0TW9kaWZpZWREYXRlLnRvTG9jYWxlRGF0ZVN0cmluZygpIDoKICAgICAgICAgICAgICAgICAgICAgICAgICAgICAgICAgICAgJ24vYSd9IC0gYCkpOwogICAgY29uc3QgcGVyY2VudCA9IHNwYW4oJzAlIGRvbmUnKTsKICAgIGxpLmFwcGVuZENoaWxkKHBlcmNlbnQpOwoKICAgIG91dHB1dEVsZW1lbnQuYXBwZW5kQ2hpbGQobGkpOwoKICAgIGNvbnN0IGZpbGVEYXRhUHJvbWlzZSA9IG5ldyBQcm9taXNlKChyZXNvbHZlKSA9PiB7CiAgICAgIGNvbnN0IHJlYWRlciA9IG5ldyBGaWxlUmVhZGVyKCk7CiAgICAgIHJlYWRlci5vbmxvYWQgPSAoZSkgPT4gewogICAgICAgIHJlc29sdmUoZS50YXJnZXQucmVzdWx0KTsKICAgICAgfTsKICAgICAgcmVhZGVyLnJlYWRBc0FycmF5QnVmZmVyKGZpbGUpOwogICAgfSk7CiAgICAvLyBXYWl0IGZvciB0aGUgZGF0YSB0byBiZSByZWFkeS4KICAgIGxldCBmaWxlRGF0YSA9IHlpZWxkIHsKICAgICAgcHJvbWlzZTogZmlsZURhdGFQcm9taXNlLAogICAgICByZXNwb25zZTogewogICAgICAgIGFjdGlvbjogJ2NvbnRpbnVlJywKICAgICAgfQogICAgfTsKCiAgICAvLyBVc2UgYSBjaHVua2VkIHNlbmRpbmcgdG8gYXZvaWQgbWVzc2FnZSBzaXplIGxpbWl0cy4gU2VlIGIvNjIxMTU2NjAuCiAgICBsZXQgcG9zaXRpb24gPSAwOwogICAgd2hpbGUgKHBvc2l0aW9uIDwgZmlsZURhdGEuYnl0ZUxlbmd0aCkgewogICAgICBjb25zdCBsZW5ndGggPSBNYXRoLm1pbihmaWxlRGF0YS5ieXRlTGVuZ3RoIC0gcG9zaXRpb24sIE1BWF9QQVlMT0FEX1NJWkUpOwogICAgICBjb25zdCBjaHVuayA9IG5ldyBVaW50OEFycmF5KGZpbGVEYXRhLCBwb3NpdGlvbiwgbGVuZ3RoKTsKICAgICAgcG9zaXRpb24gKz0gbGVuZ3RoOwoKICAgICAgY29uc3QgYmFzZTY0ID0gYnRvYShTdHJpbmcuZnJvbUNoYXJDb2RlLmFwcGx5KG51bGwsIGNodW5rKSk7CiAgICAgIHlpZWxkIHsKICAgICAgICByZXNwb25zZTogewogICAgICAgICAgYWN0aW9uOiAnYXBwZW5kJywKICAgICAgICAgIGZpbGU6IGZpbGUubmFtZSwKICAgICAgICAgIGRhdGE6IGJhc2U2NCwKICAgICAgICB9LAogICAgICB9OwogICAgICBwZXJjZW50LnRleHRDb250ZW50ID0KICAgICAgICAgIGAke01hdGgucm91bmQoKHBvc2l0aW9uIC8gZmlsZURhdGEuYnl0ZUxlbmd0aCkgKiAxMDApfSUgZG9uZWA7CiAgICB9CiAgfQoKICAvLyBBbGwgZG9uZS4KICB5aWVsZCB7CiAgICByZXNwb25zZTogewogICAgICBhY3Rpb246ICdjb21wbGV0ZScsCiAgICB9CiAgfTsKfQoKc2NvcGUuZ29vZ2xlID0gc2NvcGUuZ29vZ2xlIHx8IHt9OwpzY29wZS5nb29nbGUuY29sYWIgPSBzY29wZS5nb29nbGUuY29sYWIgfHwge307CnNjb3BlLmdvb2dsZS5jb2xhYi5fZmlsZXMgPSB7CiAgX3VwbG9hZEZpbGVzLAogIF91cGxvYWRGaWxlc0NvbnRpbnVlLAp9Owp9KShzZWxmKTsK",
              "ok": true,
              "headers": [
                [
                  "content-type",
                  "application/javascript"
                ]
              ],
              "status": 200,
              "status_text": ""
            }
          },
          "base_uri": "https://localhost:8080/",
          "height": 72
        },
        "id": "IJgEHfWRy1M1",
        "outputId": "ebfa5960-1139-4deb-a3a2-063165b57dfd"
      },
      "source": [
        "from google.colab import files\r\n",
        "uploaded = files.upload()"
      ],
      "execution_count": 5,
      "outputs": [
        {
          "output_type": "display_data",
          "data": {
            "text/html": [
              "\n",
              "     <input type=\"file\" id=\"files-01981216-53e5-437e-9958-d27c523ed640\" name=\"files[]\" multiple disabled\n",
              "        style=\"border:none\" />\n",
              "     <output id=\"result-01981216-53e5-437e-9958-d27c523ed640\">\n",
              "      Upload widget is only available when the cell has been executed in the\n",
              "      current browser session. Please rerun this cell to enable.\n",
              "      </output>\n",
              "      <script src=\"/nbextensions/google.colab/files.js\"></script> "
            ],
            "text/plain": [
              "<IPython.core.display.HTML object>"
            ]
          },
          "metadata": {
            "tags": []
          }
        },
        {
          "output_type": "stream",
          "text": [
            "Saving creditcard.csv to creditcard.csv\n"
          ],
          "name": "stdout"
        }
      ]
    },
    {
      "cell_type": "code",
      "metadata": {
        "id": "JEfP7mhSzAjr"
      },
      "source": [
        "import io\r\n",
        "data= pd.read_csv(io.BytesIO(uploaded['creditcard.csv'] ))"
      ],
      "execution_count": 20,
      "outputs": []
    },
    {
      "cell_type": "code",
      "metadata": {
        "colab": {
          "base_uri": "https://localhost:8080/"
        },
        "id": "pCE4TM07zBzL",
        "outputId": "6420bb26-62bb-459a-9fe4-ccf4e24c68bc"
      },
      "source": [
        "print(data[\"Class\"].value_counts())"
      ],
      "execution_count": 21,
      "outputs": [
        {
          "output_type": "stream",
          "text": [
            "0    284315\n",
            "1       492\n",
            "Name: Class, dtype: int64\n"
          ],
          "name": "stdout"
        }
      ]
    },
    {
      "cell_type": "code",
      "metadata": {
        "colab": {
          "base_uri": "https://localhost:8080/"
        },
        "id": "Wz3rckNmzIar",
        "outputId": "fd15abc0-c0e1-45de-d69a-e2ecb3bb413e"
      },
      "source": [
        "print('The data without fraud: ',round(data[\"Class\"].value_counts()[0]/len(data)*100,3))\r\n",
        "print('The data with fraud:     ',round(data[\"Class\"].value_counts()[1]/len(data)*100,3))"
      ],
      "execution_count": 22,
      "outputs": [
        {
          "output_type": "stream",
          "text": [
            "The data without fraud:  99.827\n",
            "The data with fraud:      0.173\n"
          ],
          "name": "stdout"
        }
      ]
    },
    {
      "cell_type": "code",
      "metadata": {
        "colab": {
          "base_uri": "https://localhost:8080/"
        },
        "id": "z1pwKgbAzMwF",
        "outputId": "c3e88691-a5a1-43cb-d22a-4ca45bdeced3"
      },
      "source": [
        "##apply preprocessing\r\n",
        "columns= data[['Time', 'Amount']]\r\n",
        "pca = PCA()\r\n",
        "pca.fit(columns)\r\n",
        "X_PCA = pca.transform(columns)\r\n",
        "\r\n",
        "data['PCATime']=X_PCA[:,0]\r\n",
        "data['PCA amount']=X_PCA[:,1]\r\n",
        "\r\n",
        "data.drop(['Time', 'Amount'], axis=1, inplace=True)\r\n",
        "\r\n",
        "data.columns"
      ],
      "execution_count": 23,
      "outputs": [
        {
          "output_type": "execute_result",
          "data": {
            "text/plain": [
              "Index(['V1', 'V2', 'V3', 'V4', 'V5', 'V6', 'V7', 'V8', 'V9', 'V10', 'V11',\n",
              "       'V12', 'V13', 'V14', 'V15', 'V16', 'V17', 'V18', 'V19', 'V20', 'V21',\n",
              "       'V22', 'V23', 'V24', 'V25', 'V26', 'V27', 'V28', 'Class', 'PCATime',\n",
              "       'PCA amount'],\n",
              "      dtype='object')"
            ]
          },
          "metadata": {
            "tags": []
          },
          "execution_count": 23
        }
      ]
    },
    {
      "cell_type": "code",
      "metadata": {
        "id": "8KaxpHn5zNqD"
      },
      "source": [
        "# (7:3) split for supervised learning\r\n",
        "X_train, X_test= train_test_split(data, test_size=0.3, random_state=7)"
      ],
      "execution_count": 24,
      "outputs": []
    },
    {
      "cell_type": "code",
      "metadata": {
        "colab": {
          "base_uri": "https://localhost:8080/"
        },
        "id": "QyNczI-S0MHi",
        "outputId": "1bc14057-2134-4312-ac8c-d04279cedd17"
      },
      "source": [
        "print(X_train.shape)"
      ],
      "execution_count": 25,
      "outputs": [
        {
          "output_type": "stream",
          "text": [
            "(199364, 31)\n"
          ],
          "name": "stdout"
        }
      ]
    },
    {
      "cell_type": "code",
      "metadata": {
        "colab": {
          "base_uri": "https://localhost:8080/"
        },
        "id": "-IecPNBWzQBE",
        "outputId": "022d5498-a3d7-4346-a62c-03c02b2b8d59"
      },
      "source": [
        "print(X_test['Class'].value_counts())\r\n",
        "\r\n",
        "#test data without upsampling\r\n",
        "X_test_t= X_test.drop([\"Class\"], axis=1)\r\n",
        "Y_test= X_test[\"Class\"]"
      ],
      "execution_count": 26,
      "outputs": [
        {
          "output_type": "stream",
          "text": [
            "0    85288\n",
            "1      155\n",
            "Name: Class, dtype: int64\n"
          ],
          "name": "stdout"
        }
      ]
    },
    {
      "cell_type": "code",
      "metadata": {
        "colab": {
          "base_uri": "https://localhost:8080/"
        },
        "id": "gzQfvXmKzSZR",
        "outputId": "82254c98-2396-421d-e87d-383cb7de1f33"
      },
      "source": [
        "#apply upsampling to the trained data\r\n",
        "maj_class=X_train[X_train[\"Class\"]==0]\r\n",
        "min_class=X_train[X_train[\"Class\"]==1]\r\n",
        "\r\n",
        "\r\n",
        "resamp_minclass=resample(min_class,n_samples=199027,replace=True,random_state=42)\r\n",
        "print(resamp_minclass.shape)\r\n",
        "\r\n",
        "Xtrain_new= pd.concat([maj_class,resamp_minclass])\r\n",
        "Xtrain_new[\"Class\"].value_counts()"
      ],
      "execution_count": 27,
      "outputs": [
        {
          "output_type": "stream",
          "text": [
            "(199027, 31)\n"
          ],
          "name": "stdout"
        },
        {
          "output_type": "execute_result",
          "data": {
            "text/plain": [
              "1    199027\n",
              "0    199027\n",
              "Name: Class, dtype: int64"
            ]
          },
          "metadata": {
            "tags": []
          },
          "execution_count": 27
        }
      ]
    },
    {
      "cell_type": "code",
      "metadata": {
        "id": "8T66qvATzTGz"
      },
      "source": [
        "upsampling_X= Xtrain_new.drop([\"Class\"], axis=1)\r\n",
        "upsampling_y= Xtrain_new[\"Class\"]"
      ],
      "execution_count": 28,
      "outputs": []
    },
    {
      "cell_type": "code",
      "metadata": {
        "colab": {
          "base_uri": "https://localhost:8080/"
        },
        "id": "Eg7YRsURz10e",
        "outputId": "71c3bfa6-d6d9-4f50-e676-c608b47396eb"
      },
      "source": [
        "print(upsampling_X.shape)"
      ],
      "execution_count": 29,
      "outputs": [
        {
          "output_type": "stream",
          "text": [
            "(398054, 30)\n"
          ],
          "name": "stdout"
        }
      ]
    },
    {
      "cell_type": "code",
      "metadata": {
        "id": "T-Z8vBf8pd1G"
      },
      "source": [
        "##apply supervised models\r\n",
        "from sklearn.naive_bayes import GaussianNB\r\n",
        "upsampling_pipe = []\r\n",
        "\r\n",
        "upsampling_pipe.append(('upsamp_LR', Pipeline([('samp_LR',LogisticRegression(max_iter=1000))])))\r\n",
        "\r\n",
        "upsampling_pipe.append(('upsamp_DCT', Pipeline([('DCT',DecisionTreeClassifier())])))\r\n",
        "\r\n",
        "upsampling_pipe.append(('upsamp_NB', Pipeline([('NB',GaussianNB())])))\r\n",
        "\r\n"
      ],
      "execution_count": 35,
      "outputs": []
    },
    {
      "cell_type": "code",
      "metadata": {
        "colab": {
          "base_uri": "https://localhost:8080/"
        },
        "id": "1VD7wX890sQY",
        "outputId": "5eb9a85a-d94e-4ac6-e95e-b297c8b846fe"
      },
      "source": [
        "upsampling_y.value_counts()"
      ],
      "execution_count": 36,
      "outputs": [
        {
          "output_type": "execute_result",
          "data": {
            "text/plain": [
              "1    199027\n",
              "0    199027\n",
              "Name: Class, dtype: int64"
            ]
          },
          "metadata": {
            "tags": []
          },
          "execution_count": 36
        }
      ]
    },
    {
      "cell_type": "code",
      "metadata": {
        "colab": {
          "base_uri": "https://localhost:8080/"
        },
        "id": "C3R8pT6KzUgo",
        "outputId": "74d26612-3fc1-4bea-9559-26cc8c0d74b7"
      },
      "source": [
        "#10 fold cross validation after upsampling\r\n",
        "#10 fold cross validation after upsampling\r\n",
        "\r\n",
        "upsamp_results = []\r\n",
        "names = []\r\n",
        "for name, model in upsampling_pipe:\r\n",
        "    kfold = KFold(n_splits=10, random_state=None, shuffle=False)\r\n",
        "    ups_cv_results = cross_val_score(model, upsampling_X, upsampling_y, cv=kfold)\r\n",
        "    upsamp_results.append(ups_cv_results)\r\n",
        "    names.append(name)\r\n",
        "    msg = \"%s: %f (%f)\" % (name, ups_cv_results.mean(), ups_cv_results.std())\r\n",
        "    print(msg)"
      ],
      "execution_count": 37,
      "outputs": [
        {
          "output_type": "stream",
          "text": [
            "upsamp_LR: 0.930172 (0.035705)\n",
            "upsamp_DCT: 0.999797 (0.000234)\n",
            "upsamp_NB: 0.862879 (0.127681)\n"
          ],
          "name": "stdout"
        }
      ]
    },
    {
      "cell_type": "code",
      "metadata": {
        "colab": {
          "base_uri": "https://localhost:8080/"
        },
        "id": "z62iP0M73QVb",
        "outputId": "361c74e1-6a56-4096-af11-97ec4982b667"
      },
      "source": [
        "##apply logistic regression to the train data\r\n",
        "\r\n",
        "LR=LogisticRegression(max_iter=1000)\r\n",
        "                \r\n",
        "kF= KFold(n_splits=10, random_state=None, shuffle=False)\r\n",
        "LR.fit(upsampling_X, upsampling_y)\r\n",
        "LR_predictions=LR.predict(X_test_t)\r\n",
        "\r\n",
        "score=roc_auc_score(Y_test, LR_predictions)\r\n",
        "print(\"Score of LR is: \", score)\r\n",
        "\r\n",
        "LR_predictions\r\n",
        "print(accuracy_score(Y_test,LR_predictions))\r\n",
        "\r\n",
        "from sklearn.metrics import classification_report\r\n",
        "print(classification_report(Y_test, LR_predictions))"
      ],
      "execution_count": 41,
      "outputs": [
        {
          "output_type": "stream",
          "text": [
            "Score of LR is:  0.9451377268972528\n",
            "0.9740411736479291\n",
            "              precision    recall  f1-score   support\n",
            "\n",
            "           0       1.00      0.97      0.99     85288\n",
            "           1       0.06      0.92      0.11       155\n",
            "\n",
            "    accuracy                           0.97     85443\n",
            "   macro avg       0.53      0.95      0.55     85443\n",
            "weighted avg       1.00      0.97      0.99     85443\n",
            "\n"
          ],
          "name": "stdout"
        }
      ]
    },
    {
      "cell_type": "code",
      "metadata": {
        "colab": {
          "base_uri": "https://localhost:8080/"
        },
        "id": "pG0_y2xv4ctX",
        "outputId": "49b0bd8d-b80f-4daf-9cca-8afa297b5538"
      },
      "source": [
        "##Apply Decision Tree for train and test\r\n",
        "DT=DecisionTreeClassifier()\r\n",
        "                \r\n",
        "kF= KFold(n_splits=10, random_state=None, shuffle=False)\r\n",
        "DT.fit(upsampling_X, upsampling_y)\r\n",
        "DT_predictions=DT.predict(X_test_t)\r\n",
        "\r\n",
        "score=roc_auc_score(Y_test, DT_predictions)\r\n",
        "print(\"Score of DT is: \", score)\r\n",
        "\r\n",
        " \r\n",
        "print(accuracy_score(Y_test, DT_predictions))\r\n",
        "\r\n",
        "from sklearn.metrics import classification_report\r\n",
        "print(classification_report(Y_test, DT_predictions))\r\n",
        "\r\n",
        "\r\n"
      ],
      "execution_count": 43,
      "outputs": [
        {
          "output_type": "stream",
          "text": [
            "Score of DT is:  0.8868564121262\n",
            "0.9991105181231933\n",
            "              precision    recall  f1-score   support\n",
            "\n",
            "           0       1.00      1.00      1.00     85288\n",
            "           1       0.75      0.77      0.76       155\n",
            "\n",
            "    accuracy                           1.00     85443\n",
            "   macro avg       0.87      0.89      0.88     85443\n",
            "weighted avg       1.00      1.00      1.00     85443\n",
            "\n"
          ],
          "name": "stdout"
        }
      ]
    },
    {
      "cell_type": "code",
      "metadata": {
        "colab": {
          "base_uri": "https://localhost:8080/"
        },
        "id": "IvNUK8D43Vmr",
        "outputId": "540192be-672a-4266-919f-b7290e670194"
      },
      "source": [
        "##apply Naive Bayes to the train data and test it\r\n",
        "\r\n",
        "NB=GaussianNB() \r\n",
        "                \r\n",
        "kF= KFold(n_splits=10, random_state=None, shuffle=False)\r\n",
        "NB.fit(upsampling_X, upsampling_y)\r\n",
        "NB_predictions=NB.predict(X_test_t)\r\n",
        "\r\n",
        "score=roc_auc_score(Y_test, NB_predictions)\r\n",
        "print(\"Score of NB is: \", score)\r\n",
        "\r\n",
        " \r\n",
        "print(accuracy_score(Y_test, NB_predictions))\r\n",
        "\r\n",
        "from sklearn.metrics import classification_report\r\n",
        "print(classification_report(Y_test, NB_predictions))"
      ],
      "execution_count": 40,
      "outputs": [
        {
          "output_type": "stream",
          "text": [
            "Score of NB is:  0.8922952516104826\n",
            "0.9906838477113398\n",
            "              precision    recall  f1-score   support\n",
            "\n",
            "           0       1.00      0.99      1.00     85288\n",
            "           1       0.14      0.79      0.24       155\n",
            "\n",
            "    accuracy                           0.99     85443\n",
            "   macro avg       0.57      0.89      0.62     85443\n",
            "weighted avg       1.00      0.99      0.99     85443\n",
            "\n"
          ],
          "name": "stdout"
        }
      ]
    },
    {
      "cell_type": "code",
      "metadata": {
        "id": "JLIr4ppF3Vu0"
      },
      "source": [
        "SVM=SVC()\r\n",
        "kF= KFold(n_splits=10, random_state=None, shuffle=False)\r\n",
        "SVM.fit(upsampling_X, upsampling_y)\r\n",
        "SVM_predictions=SVM.predict(X_test_t)\r\n",
        "\r\n",
        "score=roc_auc_score(Y_test, SVM_predictions)\r\n",
        "print(\"Score of SVM is: \", score)\r\n",
        "\r\n",
        " \r\n",
        "print(accuracy_score(Y_test, SVM_predictions))\r\n",
        "\r\n",
        "from sklearn.metrics import classification_report\r\n",
        "print(classification_report(Y_test, SVM_predictions))"
      ],
      "execution_count": null,
      "outputs": []
    },
    {
      "cell_type": "code",
      "metadata": {
        "id": "Kf05oZWP6MuH"
      },
      "source": [
        ""
      ],
      "execution_count": null,
      "outputs": []
    },
    {
      "cell_type": "code",
      "metadata": {
        "id": "rU8lYbsV6NUs"
      },
      "source": [
        "## Apply Unsupervised Learning Method Isolation Forest\r\n",
        "\r\n",
        "#Feature Selection using Z-test\r\n",
        "''' \r\n",
        "Valid transactions as our population\r\n",
        "Fraud transactions as sample\r\n",
        "Two tailed Z-test\r\n",
        "Level of significance 0.01\r\n",
        "Corresponding critical value is 2.58\r\n",
        "'''\r\n",
        "\r\n"
      ],
      "execution_count": null,
      "outputs": []
    },
    {
      "cell_type": "code",
      "metadata": {
        "id": "rTyW_QNZ6Z2c"
      },
      "source": [
        "def ztest(feature):\r\n",
        "    \r\n",
        "    mean = normal[feature].mean()\r\n",
        "    std = fraud[feature].std()\r\n",
        "    zScore = (fraud[feature].mean() - mean) / (std/np.sqrt(sample_size))\r\n",
        "    \r\n",
        "    return zScore"
      ],
      "execution_count": null,
      "outputs": []
    },
    {
      "cell_type": "code",
      "metadata": {
        "id": "6TFg3JuX6cSX"
      },
      "source": [
        "columns= data.drop('Class', axis=1).columns\r\n",
        "normal= data[data.Class==0]\r\n",
        "fraud= data[data.Class==1]\r\n",
        "sample_size=len(fraud)\r\n",
        "significant_features=[]\r\n",
        "critical_value=2.58\r\n",
        "\r\n",
        "\r\n",
        "for i in columns:\r\n",
        "    \r\n",
        "    z_vavlue=ztest(i)\r\n",
        "    \r\n",
        "    if( abs(z_vavlue) >= critical_value):    \r\n",
        "        print(i,\" is statistically significant\") #Reject Null hypothesis. i.e. H0\r\n",
        "        significant_features.append(i)"
      ],
      "execution_count": null,
      "outputs": []
    },
    {
      "cell_type": "code",
      "metadata": {
        "id": "_M7Wfz6E6jQN"
      },
      "source": [
        "significant_features.append('Class')\r\n",
        "data= data[significant_features]\r\n",
        "print(data.shape)"
      ],
      "execution_count": null,
      "outputs": []
    },
    {
      "cell_type": "code",
      "metadata": {
        "id": "waZPbUs36lSQ"
      },
      "source": [
        "##verify fraud and non-fraud\r\n",
        "Fraud = data[data['Class'] == 1]\r\n",
        "Valid = data[data['Class'] == 0]\r\n",
        "\r\n",
        "outlier_fraction = len(Fraud)/float(len(Valid))\r\n",
        "print(outlier_fraction)\r\n",
        "\r\n",
        "print('Fraud Cases: {}'.format(len(data[data['Class'] == 1])))\r\n",
        "print('Valid Transactions: {}'.format(len(data[data['Class'] == 0])))"
      ],
      "execution_count": null,
      "outputs": []
    },
    {
      "cell_type": "code",
      "metadata": {
        "id": "lTVVzmbQ6qpX"
      },
      "source": [
        "columns = data.columns.tolist()\r\n",
        "\r\n",
        "# Filter the columns to remove data we do not want\r\n",
        "columns = [c for c in columns if c not in [\"Class\"]]\r\n",
        "\r\n",
        "# Store the variable we'll be predicting on\r\n",
        "target = \"Class\"\r\n",
        "\r\n",
        "X = data[columns]\r\n",
        "Y = data[target]\r\n",
        "\r\n",
        "# Print shapes\r\n",
        "print(X.shape)\r\n",
        "print(Y.shape)"
      ],
      "execution_count": null,
      "outputs": []
    },
    {
      "cell_type": "code",
      "metadata": {
        "id": "Mbudax3b6uhZ"
      },
      "source": [
        "## Applying Isolation Forest\r\n",
        "state= 42\r\n",
        "IF = IsolationForest(n_estimators = 1050, max_features = 1.0, max_samples=1.0, \r\n",
        "                        behaviour=\"new\", bootstrap=False, random_state=22,\r\n",
        "                        contamination = outlier_fraction)\r\n",
        "#ISF = IsolationForest(random_state=state)\r\n",
        "IF.fit(X)\r\n",
        "\r\n",
        "scores_prediction = IF.decision_function(X)\r\n",
        "y_pred = IF.predict(X)\r\n",
        "\r\n",
        "\r\n",
        "#Reshape the prediction values \r\n",
        "y_pred[y_pred == 1] = 0\r\n",
        "y_pred[y_pred == -1] = 1\r\n",
        "n_errors = (y_pred != Y).sum()\r\n",
        "\r\n",
        "from sklearn.metrics import classification_report,accuracy_score\r\n",
        "print(\"Accuracy Score :\")\r\n",
        "print(accuracy_score(Y,y_pred))\r\n",
        "print(\"Classification Report :\")\r\n",
        "print(classification_report(Y,y_pred))"
      ],
      "execution_count": null,
      "outputs": []
    }
  ]
}